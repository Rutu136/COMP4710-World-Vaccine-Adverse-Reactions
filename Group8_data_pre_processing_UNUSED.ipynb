{
 "cells": [
  {
   "cell_type": "markdown",
   "id": "e6757a7c-49db-4b0e-97a9-268a7408e52d",
   "metadata": {},
   "source": [
    "## Title: Analyzing COVID-19 Vaccine Adverse Reactions: A Comprehensive Stud\n",
    "## Team Members: Rutu Barvaliya, Dharmit Anghan, Breanna Brown, Raghav Mangat\n",
    "## Group: 8\n",
    "## Course: Comp4710\n",
    "## Section: A01\n",
    "## Professor: Carson"
   ]
  },
  {
   "cell_type": "code",
   "execution_count": 2,
   "id": "d787ecd5-2afd-4030-8d04-7586b2b9af04",
   "metadata": {},
   "outputs": [],
   "source": [
    "import pandas as pd\n",
    "import matplotlib.pyplot as plt"
   ]
  },
  {
   "cell_type": "code",
   "execution_count": 3,
   "id": "806d4751-2ed4-4bda-a516-ab2586815b83",
   "metadata": {},
   "outputs": [
    {
     "name": "stderr",
     "output_type": "stream",
     "text": [
      "C:\\Users\\rutub\\AppData\\Local\\Temp\\ipykernel_42428\\3763530996.py:1: DtypeWarning: Columns (7,9,10,12,15,16,23,31) have mixed types. Specify dtype option on import or set low_memory=False.\n",
      "  vers_data = pd.read_csv(\"2020VAERSDATA.csv\", encoding='latin-1')\n"
     ]
    }
   ],
   "source": [
    "vers_data = pd.read_csv(\"2020VAERSDATA.csv\", encoding='latin-1')\n",
    "vers_vax = pd.read_csv(\"2020VAERSVAX.csv\", encoding='latin-1')\n",
    "vers_symptoms = pd.read_csv(\"2020PREPROCESSED_SYMPTOMS.csv\", encoding='latin-1')"
   ]
  },
  {
   "cell_type": "code",
   "execution_count": 4,
   "metadata": {},
   "outputs": [
    {
     "name": "stdout",
     "output_type": "stream",
     "text": [
      "Total count of VAERS_ID: 49634\n",
      "Count after removing duplicates: 49634\n",
      "Total count of VAERS_ID: 59641\n",
      "Count after removing duplicates: 49634\n",
      "Total count of VAERS_ID: 49634\n",
      "Count after removing duplicates: 49634\n"
     ]
    }
   ],
   "source": [
    "# Print the total count of VAERS_ID\n",
    "total_count = len(vers_data['VAERS_ID'])\n",
    "print(\"Total count of VAERS_ID:\", total_count)\n",
    "\n",
    "# Remove duplicate VAERS_ID\n",
    "vers_data.drop_duplicates(subset='VAERS_ID', inplace=True)\n",
    "\n",
    "# Print the count after removing duplicates\n",
    "count_after_duplicates = len(vers_data['VAERS_ID'])\n",
    "print(\"Count after removing duplicates:\", count_after_duplicates)\n",
    "\n",
    "\n",
    "\n",
    "# Print the total count of VAERS_ID\n",
    "total_count = len(vers_vax['VAERS_ID'])\n",
    "print(\"Total count of VAERS_ID:\", total_count)\n",
    "\n",
    "# Remove duplicate VAERS_ID\n",
    "vers_vax.drop_duplicates(subset='VAERS_ID', inplace=True)\n",
    "\n",
    "# Print the count after removing duplicates\n",
    "count_after_duplicates = len(vers_vax['VAERS_ID'])\n",
    "print(\"Count after removing duplicates:\", count_after_duplicates)\n",
    "\n",
    "\n",
    "\n",
    "# Print the total count of VAERS_ID\n",
    "total_count = len(vers_symptoms['VAERS_ID'])\n",
    "print(\"Total count of VAERS_ID:\", total_count)\n",
    "\n",
    "# Remove duplicate VAERS_ID\n",
    "vers_symptoms.drop_duplicates(subset='VAERS_ID', inplace=True)\n",
    "\n",
    "# Print the count after removing duplicates\n",
    "count_after_duplicates = len(vers_symptoms['VAERS_ID'])\n",
    "print(\"Count after removing duplicates:\", count_after_duplicates)"
   ]
  },
  {
   "cell_type": "markdown",
   "id": "31b6e102-9f1f-4462-bb48-6383464a0ede",
   "metadata": {},
   "source": [
    "### Cleaning up 2022VAERSDATA file."
   ]
  },
  {
   "cell_type": "code",
   "execution_count": 5,
   "id": "d4c49bf1-ae4e-426b-88af-8730302c07d9",
   "metadata": {},
   "outputs": [
    {
     "name": "stdout",
     "output_type": "stream",
     "text": [
      "VAERS_ID         0.000000\n",
      "RECVDATE         0.000000\n",
      "STATE           13.931982\n",
      "AGE_YRS         23.393239\n",
      "CAGE_YR         26.272313\n",
      "CAGE_MO         94.056494\n",
      "SEX              0.000000\n",
      "RPT_DATE        97.979208\n",
      "SYMPTOM_TEXT     0.060442\n",
      "DIED             0.000000\n",
      "DATEDIED         0.000000\n",
      "L_THREAT         0.000000\n",
      "ER_VISIT         0.000000\n",
      "HOSPITAL         0.000000\n",
      "HOSPDAYS         0.000000\n",
      "X_STAY           0.000000\n",
      "DISABLE          0.000000\n",
      "RECOVD           7.529113\n",
      "VAX_DATE        12.767458\n",
      "ONSET_DATE      17.105210\n",
      "NUMDAYS         20.598783\n",
      "LAB_DATA        74.654471\n",
      "V_ADMINBY        0.000000\n",
      "V_FUNDBY        97.878470\n",
      "OTHER_MEDS       0.000000\n",
      "CUR_ILL          0.000000\n",
      "HISTORY          0.000000\n",
      "PRIOR_VAX        0.000000\n",
      "SPLTTYPE        64.514244\n",
      "FORM_VERS        0.000000\n",
      "TODAYS_DATE      2.991901\n",
      "BIRTH_DEFECT     0.000000\n",
      "OFC_VISIT        0.000000\n",
      "ER_ED_VISIT      0.000000\n",
      "ALLERGIES        0.000000\n",
      "dtype: float64\n",
      "Dropped columns: ['CAGE_MO', 'RPT_DATE', 'LAB_DATA', 'V_FUNDBY', 'SPLTTYPE']\n"
     ]
    }
   ],
   "source": [
    "# Define a dictionary with columns and their respective predefined values for filling nulls\n",
    "fill_values = {\n",
    "    'OTHER_MEDS': 'No medication',\n",
    "    'CUR_ILL': 'Not applicable',\n",
    "    'HISTORY': 'No concerns',\n",
    "    'PRIOR_VAX': 'Not applicable', \n",
    "    'DIED': 'N',\n",
    "    'DATEDIED': 'Not applicable', \n",
    "    'L_THREAT': 'N', \n",
    "    'ER_VISIT': 'N', \n",
    "    'HOSPITAL':'N',\n",
    "    'HOSPDAYS': 0,\n",
    "    'X_STAY': 'N',\n",
    "    'DISABLE': 'N',\n",
    "    'BIRTH_DEFECT': 'N',\n",
    "    'OFC_VISIT': 'N',\n",
    "    'ER_ED_VISIT': 'N',\n",
    "    'ALLERGIES': 'N'\n",
    "}\n",
    "\n",
    "# Fill null values with predefined values for respective columns\n",
    "for column, value in fill_values.items():\n",
    "    vers_data[column].fillna(value, inplace=True)\n",
    "\n",
    "# Calculate the percentage of null values in each column\n",
    "null_percentages = (vers_data.isnull().sum() / len(vers_data)) * 100\n",
    "print(null_percentages)\n",
    "\n",
    "# List to store columns with more than 50% null values\n",
    "columns_to_drop = []\n",
    "\n",
    "# Iterate through each column's null percentage\n",
    "for column, percentage in null_percentages.items():\n",
    "    if percentage > 50:\n",
    "        columns_to_drop.append(column)\n",
    "\n",
    "# Drop columns with more than 50% null values\n",
    "if columns_to_drop:\n",
    "    vers_data.drop(columns=columns_to_drop, inplace=True)\n",
    "    print(f\"Dropped columns: {columns_to_drop}\")\n",
    "else:\n",
    "    print(\"No columns have more than 50% null values.\")\n"
   ]
  },
  {
   "cell_type": "markdown",
   "id": "2e0ad582-b8fd-4620-bc6d-e5bfb4a855a4",
   "metadata": {},
   "source": [
    "### Cleaning up 2022VAERSVAX file."
   ]
  },
  {
   "cell_type": "code",
   "execution_count": 6,
   "id": "cf57c7f0-facc-426f-8317-a3e69c5f8bb6",
   "metadata": {},
   "outputs": [
    {
     "name": "stdout",
     "output_type": "stream",
     "text": [
      "VAERS_ID            0.000000\n",
      "VAX_TYPE            0.000000\n",
      "VAX_MANU            0.000000\n",
      "VAX_LOT            39.086110\n",
      "VAX_DOSE_SERIES     2.566789\n",
      "VAX_ROUTE          26.969416\n",
      "VAX_SITE           36.823548\n",
      "VAX_NAME            0.000000\n",
      "dtype: float64\n",
      "No columns have more than 50% null values.\n"
     ]
    }
   ],
   "source": [
    "# Calculate the percentage of null values in each column\n",
    "null_percentages = (vers_vax.isnull().sum() / len(vers_vax)) * 100\n",
    "print(null_percentages)\n",
    "\n",
    "# List to store columns with more than 50% null values\n",
    "columns_to_drop = []\n",
    "\n",
    "# Iterate through each column's null percentage\n",
    "for column, percentage in null_percentages.items():\n",
    "    if percentage > 50:\n",
    "        columns_to_drop.append(column)\n",
    "\n",
    "# Drop columns with more than 50% null values\n",
    "if columns_to_drop:\n",
    "    vers_vax.drop(columns=columns_to_drop, inplace=True)\n",
    "    print(f\"Dropped columns: {columns_to_drop}\")\n",
    "else:\n",
    "    print(\"No columns have more than 50% null values.\")"
   ]
  },
  {
   "cell_type": "markdown",
   "id": "fb27f4ed-5980-45ae-aa2f-4cd40faf483f",
   "metadata": {},
   "source": [
    "### Cleaning up 2022VAERSSYMPTOMS file."
   ]
  },
  {
   "cell_type": "code",
   "execution_count": 5,
   "id": "2d36e3fa-efc7-40ea-b042-c43268847c14",
   "metadata": {},
   "outputs": [
    {
     "name": "stdout",
     "output_type": "stream",
     "text": [
      "VAERS_ID            0.000000\n",
      "SYMPTOM1            0.000000\n",
      "SYMPTOMVERSION1     0.000000\n",
      "SYMPTOM2            0.000000\n",
      "SYMPTOMVERSION2     0.000000\n",
      "SYMPTOM3            0.000000\n",
      "SYMPTOMVERSION3     0.000000\n",
      "SYMPTOM4            0.000000\n",
      "SYMPTOMVERSION4     0.000000\n",
      "SYMPTOM5           69.027088\n",
      "SYMPTOMVERSION5    69.027088\n",
      "dtype: float64\n",
      "Dropped columns: ['SYMPTOM5', 'SYMPTOMVERSION5']\n"
     ]
    }
   ],
   "source": [
    "# Define a dictionary with columns and their respective predefined values for filling nulls\n",
    "fill_values = {\n",
    "    'SYMPTOM2': 'No symptom',\n",
    "    'SYMPTOMVERSION2': 0,\n",
    "    'SYMPTOM3': 'No symptom',\n",
    "    'SYMPTOMVERSION3': 0,\n",
    "    'SYMPTOM4': 'No symptom',\n",
    "    'SYMPTOMVERSION4': 0,\n",
    "}\n",
    "\n",
    "# Fill null values with predefined values for respective columns\n",
    "for column, value in fill_values.items():\n",
    "    vers_symptoms[column].fillna(value, inplace=True)\n",
    "\n",
    "# Calculate the percentage of null values in each column\n",
    "null_percentages = (vers_symptoms.isnull().sum() / len(vers_symptoms)) * 100\n",
    "print(null_percentages) \n",
    "\n",
    "# List to store columns with more than 50% null values\n",
    "columns_to_drop = []\n",
    "\n",
    "# Iterate through each column's null percentage\n",
    "for column, percentage in null_percentages.items():\n",
    "    if percentage > 50:\n",
    "        columns_to_drop.append(column)\n",
    "\n",
    "# Drop columns with more than 70% null values\n",
    "if columns_to_drop:\n",
    "    vers_symptoms.drop(columns=columns_to_drop, inplace=True)\n",
    "    print(f\"Dropped columns: {columns_to_drop}\")\n",
    "else:\n",
    "    print(\"No columns have more than 70% null values.\")"
   ]
  },
  {
   "cell_type": "markdown",
   "id": "1a735e58-37a3-48b6-87f6-079c1db272ba",
   "metadata": {},
   "source": [
    "### Showing updated data, with less null values."
   ]
  },
  {
   "cell_type": "code",
   "execution_count": 7,
   "id": "f73c8264-f28d-4070-a79e-38dc7a65783e",
   "metadata": {},
   "outputs": [
    {
     "name": "stdout",
     "output_type": "stream",
     "text": [
      "Total number of rows in vers data: 49634\n",
      "Total number of columns in vers data: 30\n",
      "Name of the columns: ['VAERS_ID', 'RECVDATE', 'STATE', 'AGE_YRS', 'CAGE_YR', 'SEX', 'SYMPTOM_TEXT', 'DIED', 'DATEDIED', 'L_THREAT', 'ER_VISIT', 'HOSPITAL', 'HOSPDAYS', 'X_STAY', 'DISABLE', 'RECOVD', 'VAX_DATE', 'ONSET_DATE', 'NUMDAYS', 'V_ADMINBY', 'OTHER_MEDS', 'CUR_ILL', 'HISTORY', 'PRIOR_VAX', 'FORM_VERS', 'TODAYS_DATE', 'BIRTH_DEFECT', 'OFC_VISIT', 'ER_ED_VISIT', 'ALLERGIES']\n"
     ]
    }
   ],
   "source": [
    "num_rows, num_columns = vers_data.shape\n",
    "print(f'Total number of rows in vers data: {num_rows}')\n",
    "print(f'Total number of columns in vers data: {num_columns}')\n",
    "print(f'Name of the columns: {vers_data.columns.tolist()}')"
   ]
  },
  {
   "cell_type": "code",
   "execution_count": 8,
   "id": "16c84005-eccc-472d-9c83-301ac235e763",
   "metadata": {},
   "outputs": [
    {
     "name": "stdout",
     "output_type": "stream",
     "text": [
      "Total number of rows in vers vax: 49634\n",
      "Total number of columns in vers vax: 8\n",
      "Name of the columns: ['VAERS_ID', 'VAX_TYPE', 'VAX_MANU', 'VAX_LOT', 'VAX_DOSE_SERIES', 'VAX_ROUTE', 'VAX_SITE', 'VAX_NAME']\n"
     ]
    }
   ],
   "source": [
    "num_rows, num_columns = vers_vax.shape\n",
    "print(f'Total number of rows in vers vax: {num_rows}')\n",
    "print(f'Total number of columns in vers vax: {num_columns}')\n",
    "print(f'Name of the columns: {vers_vax.columns.tolist()}')"
   ]
  },
  {
   "cell_type": "code",
   "execution_count": 9,
   "id": "681eac33-a0eb-49a8-80ca-1f96a24a316a",
   "metadata": {},
   "outputs": [
    {
     "name": "stdout",
     "output_type": "stream",
     "text": [
      "Total number of rows in vers symptoms: 49634\n",
      "Total number of columns in vers symptoms: 12\n",
      "Name of the columns: ['VAERS_ID', 'SYMPTOM1', 'SYMPTOMVERSION1', 'SYMPTOM2', 'SYMPTOMVERSION2', 'SYMPTOM3', 'SYMPTOMVERSION3', 'SYMPTOM4', 'SYMPTOMVERSION4', 'SYMPTOM5', 'SYMPTOMVERSION5', 'Symptoms']\n"
     ]
    }
   ],
   "source": [
    "num_rows, num_columns = vers_symptoms.shape\n",
    "print(f'Total number of rows in vers symptoms: {num_rows}')\n",
    "print(f'Total number of columns in vers symptoms: {num_columns}')\n",
    "print(f'Name of the columns: {vers_symptoms.columns.tolist()}')"
   ]
  },
  {
   "cell_type": "markdown",
   "id": "492d6262-4f35-48bd-8060-6df12d912339",
   "metadata": {},
   "source": [
    "### Data with 0 null values."
   ]
  },
  {
   "cell_type": "code",
   "execution_count": 10,
   "id": "f576e525-4738-4ee3-be35-2b658a836a7d",
   "metadata": {},
   "outputs": [
    {
     "name": "stdout",
     "output_type": "stream",
     "text": [
      "Total number of rows: 28627\n",
      "Total number of columns: 30\n"
     ]
    }
   ],
   "source": [
    "# Removing rows with NaN values\n",
    "cleaned_vers_data = vers_data.dropna()\n",
    "\n",
    "num_rows, num_columns = cleaned_vers_data.shape\n",
    "\n",
    "print(f'Total number of rows: {num_rows}')\n",
    "print(f'Total number of columns: {num_columns}')"
   ]
  },
  {
   "cell_type": "code",
   "execution_count": 11,
   "id": "7117319c-c789-40a0-8d9d-aa0c1e499866",
   "metadata": {},
   "outputs": [
    {
     "name": "stdout",
     "output_type": "stream",
     "text": [
      "Total number of rows: 21737\n",
      "Total number of columns: 8\n"
     ]
    }
   ],
   "source": [
    "# Removing rows with NaN values\n",
    "cleaned_vers_vax = vers_vax.dropna()\n",
    "\n",
    "num_rows, num_columns = cleaned_vers_vax.shape\n",
    "\n",
    "print(f'Total number of rows: {num_rows}')\n",
    "print(f'Total number of columns: {num_columns}')"
   ]
  },
  {
   "cell_type": "code",
   "execution_count": 12,
   "id": "72dfbf05-e618-470e-bbfb-2ba4be1000e0",
   "metadata": {},
   "outputs": [
    {
     "name": "stdout",
     "output_type": "stream",
     "text": [
      "Total number of rows: 49634\n",
      "Total number of columns: 12\n"
     ]
    }
   ],
   "source": [
    "# Removing rows with NaN values\n",
    "cleaned_vers_symptoms = vers_symptoms.dropna()\n",
    "\n",
    "num_rows, num_columns = cleaned_vers_symptoms.shape\n",
    "\n",
    "print(f'Total number of rows: {num_rows}')\n",
    "print(f'Total number of columns: {num_columns}')"
   ]
  },
  {
   "cell_type": "markdown",
   "id": "e6c19ae7-5bc5-4307-9062-b3c81f241e23",
   "metadata": {},
   "source": [
    "### Merge all the cleaned data files into one and write it out in cleaned_vers_data.csv file."
   ]
  },
  {
   "cell_type": "code",
   "execution_count": 12,
   "id": "de87c353-bdcb-4892-9289-6d4100238b88",
   "metadata": {},
   "outputs": [
    {
     "name": "stdout",
     "output_type": "stream",
     "text": [
      "Total number of  rows in merged data: 143569\n",
      "Total number of columns in merged data: 45\n"
     ]
    }
   ],
   "source": [
    "# Merge DataFrames based on the 'VERS_ID' column\n",
    "merged_df = pd.merge(cleaned_vers_data, cleaned_vers_vax, on='VAERS_ID', how='inner')\n",
    "merged_df = pd.merge(merged_df, cleaned_vers_symptoms, on='VAERS_ID', how='inner')\n",
    "\n",
    "num_rows, num_columns = merged_df.shape\n",
    "print(f'Total number of  rows in merged data: {num_rows}')\n",
    "print(f'Total number of columns in merged data: {num_columns}')\n",
    "\n",
    "# Writing it out in csv.\n",
    "# output_file_name = \"cleaned_vers_data.csv\"\n",
    "# merged_df.to_csv(output_file_name, index=False)"
   ]
  },
  {
   "cell_type": "code",
   "execution_count": 12,
   "metadata": {},
   "outputs": [
    {
     "name": "stdout",
     "output_type": "stream",
     "text": [
      "(7282, 45)\n"
     ]
    }
   ],
   "source": [
    "df1 = pd.read_csv(\"cleaned_vers_data_2020.csv\", encoding='latin-1')\n",
    "df2 = pd.read_csv(\"cleaned_vers_data_2021.csv\", encoding='latin-1')\n",
    "df3 = pd.read_csv(\"cleaned_vers_data_2022.csv\", encoding='latin-1')\n",
    "\n",
    "filtered_data1 = df1[(df1['VAX_TYPE'] == 'COVID19') | (df1['VAX_TYPE'] == 'COVID19-2')]\n",
    "filtered_data2 = df2[(df2['VAX_TYPE'] == 'COVID19') | (df2['VAX_TYPE'] == 'COVID19-2')]\n",
    "filtered_data3 = df3[(df3['VAX_TYPE'] == 'COVID19') | (df3['VAX_TYPE'] == 'COVID19-2')]\n",
    "\n",
    "output_file_name1 = \"cleaned_vers_data_covid_2020.csv\"\n",
    "filtered_data1.to_csv(output_file_name1, index=False)\n",
    "\n",
    "\n",
    "output_file_name2 = \"cleaned_vers_data_covid_2021.csv\"\n",
    "filtered_data2.to_csv(output_file_name2, index=False)\n",
    "\n",
    "\n",
    "output_file_name3 = \"cleaned_vers_data_covid_2022.csv\"\n",
    "filtered_data3.to_csv(output_file_name3, index=False)\n",
    "\n",
    "df1 = pd.read_csv(\"cleaned_vers_data_covid_2020.csv\", encoding='latin-1')\n",
    "print(df1.shape)"
   ]
  },
  {
   "cell_type": "code",
   "execution_count": 14,
   "metadata": {},
   "outputs": [
    {
     "name": "stdout",
     "output_type": "stream",
     "text": [
      "(569035, 45)\n"
     ]
    }
   ],
   "source": [
    "# Read the three CSV files\n",
    "file_paths = [\"cleaned_vers_data_covid_2020.csv\", \"cleaned_vers_data_covid_2021.csv\", \"cleaned_vers_data_covid_2022.csv\"]\n",
    "dfs = [pd.read_csv(file_path) for file_path in file_paths]\n",
    "\n",
    "# Concatenate the dataframes\n",
    "df = pd.concat(dfs)\n",
    "print(df.shape)\n",
    "\n",
    "output_file_name = \"cleaned_vers_data_covid19_vaccine_2020-2022.csv\"\n",
    "df.to_csv(output_file_name, index=False)\n"
   ]
  },
  {
   "cell_type": "markdown",
   "metadata": {},
   "source": [
    "Total number of rows in vers data: 10381\n",
    "Total number of columns in vers data: 46\n",
    "Total number of rows: 7666\n",
    "Total number of columns: 46\n",
    "\n",
    "Total number of rows in vers data: 710783\n",
    "Total number of columns in vers data: 46\n",
    "Total number of rows: 445062\n",
    "Total number of columns: 46\n",
    "\n",
    "Total number of rows in vers data: 210736\n",
    "Total number of columns in vers data: 46\n",
    "Total number of rows: 104130\n",
    "Total number of columns: 46\n",
    "\n",
    "Total data 556,858"
   ]
  }
 ],
 "metadata": {
  "kernelspec": {
   "display_name": "Python 3 (ipykernel)",
   "language": "python",
   "name": "python3"
  },
  "language_info": {
   "codemirror_mode": {
    "name": "ipython",
    "version": 3
   },
   "file_extension": ".py",
   "mimetype": "text/x-python",
   "name": "python",
   "nbconvert_exporter": "python",
   "pygments_lexer": "ipython3",
   "version": "3.10.11"
  }
 },
 "nbformat": 4,
 "nbformat_minor": 5
}
