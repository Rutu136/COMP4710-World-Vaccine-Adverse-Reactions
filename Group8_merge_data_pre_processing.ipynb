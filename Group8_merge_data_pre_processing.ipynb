{
 "cells": [
  {
   "cell_type": "markdown",
   "metadata": {},
   "source": [
    "## Title: Analyzing COVID-19 Vaccine Adverse Reactions: A Comprehensive Stud\n",
    "## Team Members: Rutu Barvaliya, Dharmit Anghan, Breanna Brown\n",
    "## Group: 8\n",
    "## Course: Comp4710\n",
    "## Section: A01\n",
    "## Professor: Carson"
   ]
  },
  {
   "cell_type": "code",
   "execution_count": 31,
   "metadata": {},
   "outputs": [
    {
     "name": "stderr",
     "output_type": "stream",
     "text": [
      "C:\\Users\\rutub\\AppData\\Local\\Temp\\ipykernel_25900\\3566563322.py:4: DtypeWarning: Columns (2) have mixed types. Specify dtype option on import or set low_memory=False.\n",
      "  symptoms_df = pd.read_csv('2022PREPROCESSED_SYMPTOMS.csv', encoding='latin-1')\n",
      "C:\\Users\\rutub\\AppData\\Local\\Temp\\ipykernel_25900\\3566563322.py:6: DtypeWarning: Columns (7,12,23) have mixed types. Specify dtype option on import or set low_memory=False.\n",
      "  vaersdata_df = pd.read_csv('2022VAERSDATA.csv', encoding='latin-1')\n"
     ]
    },
    {
     "name": "stdout",
     "output_type": "stream",
     "text": [
      "(210736, 51)\n"
     ]
    }
   ],
   "source": [
    "import pandas as pd\n",
    "\n",
    "# Read the CSV files\n",
    "symptoms_df = pd.read_csv('2022PREPROCESSED_SYMPTOMS.csv', encoding='latin-1')\n",
    "vax_df = pd.read_csv('2022PREPROCESSED_VAX.csv', encoding='latin-1')\n",
    "vaersdata_df = pd.read_csv('2022VAERSDATA.csv', encoding='latin-1')\n",
    "\n",
    "# Perform inner join on VAERS_ID\n",
    "merged_df = pd.merge(vaersdata_df, symptoms_df, on='VAERS_ID', how='inner')\n",
    "merged_df = pd.merge(merged_df, vax_df, on='VAERS_ID', how='inner')\n",
    "\n",
    "# Print the merged dataframe\n",
    "# merged_df.head()\n",
    "print(merged_df.shape)"
   ]
  },
  {
   "cell_type": "code",
   "execution_count": 32,
   "metadata": {},
   "outputs": [
    {
     "name": "stdout",
     "output_type": "stream",
     "text": [
      "VAERS_ID            0.000000\n",
      "RECVDATE            0.000000\n",
      "STATE              19.951029\n",
      "AGE_YRS            11.785836\n",
      "CAGE_YR            23.707387\n",
      "CAGE_MO            99.241705\n",
      "SEX                 0.000000\n",
      "RPT_DATE           99.942108\n",
      "SYMPTOM_TEXT        0.254821\n",
      "DIED                0.000000\n",
      "DATEDIED            0.000000\n",
      "L_THREAT            0.000000\n",
      "ER_VISIT            0.000000\n",
      "HOSPITAL            0.000000\n",
      "HOSPDAYS            0.000000\n",
      "X_STAY              0.000000\n",
      "DISABLE             0.000000\n",
      "RECOVD             19.430472\n",
      "VAX_DATE            9.503834\n",
      "ONSET_DATE         14.669065\n",
      "NUMDAYS            18.769930\n",
      "LAB_DATA           64.959950\n",
      "V_ADMINBY           0.000000\n",
      "V_FUNDBY           99.937837\n",
      "OTHER_MEDS          0.000000\n",
      "CUR_ILL             0.000000\n",
      "HISTORY             0.000000\n",
      "PRIOR_VAX           0.000000\n",
      "SPLTTYPE           60.066624\n",
      "FORM_VERS           0.000000\n",
      "TODAYS_DATE         1.995388\n",
      "BIRTH_DEFECT        0.000000\n",
      "OFC_VISIT           0.000000\n",
      "ER_ED_VISIT         0.000000\n",
      "ALLERGIES           0.000000\n",
      "SYMPTOM1            0.000000\n",
      "SYMPTOMVERSION1     0.000000\n",
      "SYMPTOM2            0.000000\n",
      "SYMPTOMVERSION2     0.000000\n",
      "SYMPTOM3            0.000000\n",
      "SYMPTOMVERSION3     0.000000\n",
      "SYMPTOM4            0.000000\n",
      "SYMPTOMVERSION4     0.000000\n",
      "SYMPTOM5            0.000000\n",
      "SYMPTOMVERSION5     0.000000\n",
      "Symptoms            0.000000\n",
      "VAX_TYPE            0.000000\n",
      "VAX_MANU            0.000000\n",
      "VAX_DOSE_SERIES     0.408568\n",
      "VAX_ROUTE           0.000000\n",
      "VAX_NAME            0.000000\n",
      "dtype: float64\n",
      "Dropped columns: ['CAGE_MO', 'RPT_DATE', 'LAB_DATA', 'V_FUNDBY', 'SPLTTYPE']\n"
     ]
    }
   ],
   "source": [
    "# Define a dictionary with columns and their respective predefined values for filling nulls\n",
    "fill_values = {\n",
    "    'OTHER_MEDS': 'No medication',\n",
    "    'CUR_ILL': 'Not applicable',\n",
    "    'HISTORY': 'No concerns',\n",
    "    'PRIOR_VAX': 'Not applicable', \n",
    "    'DIED': 'N',\n",
    "    'DATEDIED': 'Not applicable', \n",
    "    'L_THREAT': 'N', \n",
    "    'ER_VISIT': 'N', \n",
    "    'HOSPITAL':'N',\n",
    "    'HOSPDAYS': 0,\n",
    "    'X_STAY': 'N',\n",
    "    'DISABLE': 'N',\n",
    "    'BIRTH_DEFECT': 'N',\n",
    "    'OFC_VISIT': 'N',\n",
    "    'ER_ED_VISIT': 'N',\n",
    "    'ALLERGIES': 'N'\n",
    "}\n",
    "\n",
    "# Fill null values with predefined values for respective columns\n",
    "for column, value in fill_values.items():\n",
    "    merged_df[column].fillna(value, inplace=True)\n",
    "\n",
    "null_percentages = (merged_df.isnull().sum() / len(merged_df)) * 100\n",
    "print(null_percentages)\n",
    "\n",
    "# List to store columns with more than 50% null values\n",
    "columns_to_drop = []\n",
    "\n",
    "# Iterate through each column's null percentage\n",
    "for column, percentage in null_percentages.items():\n",
    "    if percentage > 50:\n",
    "        columns_to_drop.append(column)\n",
    "\n",
    "# Drop columns with more than 50% null values\n",
    "if columns_to_drop:\n",
    "    merged_df.drop(columns=columns_to_drop, inplace=True)\n",
    "    print(f\"Dropped columns: {columns_to_drop}\")\n",
    "else:\n",
    "    print(\"No columns have more than 50% null values.\")"
   ]
  },
  {
   "cell_type": "code",
   "execution_count": 33,
   "metadata": {},
   "outputs": [
    {
     "name": "stdout",
     "output_type": "stream",
     "text": [
      "Total number of rows in vers data: 210736\n",
      "Total number of columns in vers data: 46\n",
      "Total number of rows: 104130\n",
      "Total number of columns: 46\n"
     ]
    }
   ],
   "source": [
    "num_rows, num_columns = merged_df.shape\n",
    "print(f'Total number of rows in vers data: {num_rows}')\n",
    "print(f'Total number of columns in vers data: {num_columns}')\n",
    "\n",
    "# Removing rows with NaN values\n",
    "merged_df = merged_df.dropna()\n",
    "\n",
    "num_rows, num_columns = merged_df.shape\n",
    "\n",
    "print(f'Total number of rows: {num_rows}')\n",
    "print(f'Total number of columns: {num_columns}')"
   ]
  },
  {
   "cell_type": "code",
   "execution_count": 34,
   "metadata": {},
   "outputs": [
    {
     "name": "stdout",
     "output_type": "stream",
     "text": [
      "Total count of VAERS_ID: 104130\n",
      "Count after removing duplicates: 104130\n"
     ]
    }
   ],
   "source": [
    "# Print the total count of VAERS_ID\n",
    "total_count = len(merged_df['VAERS_ID'])\n",
    "print(\"Total count of VAERS_ID:\", total_count)\n",
    "\n",
    "# Remove duplicate VAERS_ID\n",
    "merged_df.drop_duplicates(subset='VAERS_ID', inplace=True)\n",
    "\n",
    "# Print the count after removing duplicates\n",
    "count_after_duplicates = len(merged_df['VAERS_ID'])\n",
    "print(\"Count after removing duplicates:\", count_after_duplicates)"
   ]
  },
  {
   "cell_type": "code",
   "execution_count": 35,
   "metadata": {},
   "outputs": [],
   "source": [
    "output_file_name1 = \"cleaned_vers_data_covid_2022.csv\"\n",
    "merged_df.to_csv(output_file_name1, index=False)"
   ]
  },
  {
   "cell_type": "code",
   "execution_count": 36,
   "metadata": {},
   "outputs": [
    {
     "name": "stderr",
     "output_type": "stream",
     "text": [
      "C:\\Users\\rutub\\AppData\\Local\\Temp\\ipykernel_25900\\4083912021.py:3: DtypeWarning: Columns (31) have mixed types. Specify dtype option on import or set low_memory=False.\n",
      "  dfs = [pd.read_csv(file_path) for file_path in file_paths]\n"
     ]
    },
    {
     "name": "stdout",
     "output_type": "stream",
     "text": [
      "(556858, 46)\n"
     ]
    }
   ],
   "source": [
    "# Read the three CSV files\n",
    "file_paths = [\"cleaned_vers_data_covid_2020.csv\", \"cleaned_vers_data_covid_2021.csv\", \"cleaned_vers_data_covid_2022.csv\"]\n",
    "dfs = [pd.read_csv(file_path) for file_path in file_paths]\n",
    "\n",
    "# Concatenate the dataframes\n",
    "df = pd.concat(dfs)\n",
    "print(df.shape)\n",
    "\n",
    "output_file_name = \"cleaned_vers_data_covid19_vaccine_2020-2022_duplicate_removed.csv\"\n",
    "df.to_csv(output_file_name, index=False)"
   ]
  }
 ],
 "metadata": {
  "kernelspec": {
   "display_name": "Python 3",
   "language": "python",
   "name": "python3"
  },
  "language_info": {
   "codemirror_mode": {
    "name": "ipython",
    "version": 3
   },
   "file_extension": ".py",
   "mimetype": "text/x-python",
   "name": "python",
   "nbconvert_exporter": "python",
   "pygments_lexer": "ipython3",
   "version": "3.10.11"
  }
 },
 "nbformat": 4,
 "nbformat_minor": 2
}
