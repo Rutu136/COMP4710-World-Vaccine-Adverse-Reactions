{
 "cells": [
  {
   "cell_type": "markdown",
   "metadata": {},
   "source": [
    "## Title: Analyzing COVID-19 Vaccine Adverse Reactions: A Comprehensive Stud\n",
    "## Team Members: Rutu Barvaliya, Dharmit Anghan, Breanna Brown\n",
    "## Group: 8\n",
    "## Course: Comp4710\n",
    "## Section: A01\n",
    "## Professor: Carson"
   ]
  },
  {
   "cell_type": "code",
   "execution_count": 35,
   "metadata": {},
   "outputs": [
    {
     "name": "stdout",
     "output_type": "stream",
     "text": [
      "Before dropping duplicates: \n",
      "(10398, 8)\n",
      "(742220, 8)\n",
      "(232416, 8)\n",
      "After dropping duplicates: \n",
      "(10381, 8)\n",
      "(710786, 8)\n",
      "(210736, 8)\n"
     ]
    }
   ],
   "source": [
    "import pandas as pd\n",
    "\n",
    "# Read the CSV file\n",
    "df1 = pd.read_csv('2020VAERSVAX.csv', encoding='latin-1')\n",
    "df1 = df1[df1['VAX_TYPE'].isin(['COVID19', 'COVID19-2'])]\n",
    "\n",
    "df2 = pd.read_csv('2021VAERSVAX.csv', encoding='latin-1')\n",
    "df2 = df2[df2['VAX_TYPE'].isin(['COVID19', 'COVID19-2'])]\n",
    "\n",
    "df3 = pd.read_csv('2022VAERSVAX.csv', encoding='latin-1')\n",
    "df3 = df3[df3['VAX_TYPE'].isin(['COVID19', 'COVID19-2'])]\n",
    "\n",
    "print(\"Before dropping duplicates: \")\n",
    "print(df1.shape)\n",
    "print(df2.shape)\n",
    "print(df3.shape)\n",
    "\n",
    "df1.drop_duplicates(subset='VAERS_ID', inplace=True)\n",
    "df2.drop_duplicates(subset='VAERS_ID', inplace=True)\n",
    "df3.drop_duplicates(subset='VAERS_ID', inplace=True)\n",
    "\n",
    "print(\"After dropping duplicates: \")\n",
    "print(df1.shape)\n",
    "print(df2.shape)\n",
    "print(df3.shape)"
   ]
  },
  {
   "cell_type": "code",
   "execution_count": 36,
   "metadata": {},
   "outputs": [
    {
     "name": "stdout",
     "output_type": "stream",
     "text": [
      "VAERS_ID            0.000000\n",
      "VAX_TYPE            0.000000\n",
      "VAX_MANU            0.000000\n",
      "VAX_LOT            25.816395\n",
      "VAX_DOSE_SERIES     0.067431\n",
      "VAX_ROUTE          16.048550\n",
      "VAX_SITE           14.391677\n",
      "VAX_NAME            0.000000\n",
      "dtype: float64\n"
     ]
    }
   ],
   "source": [
    "# # Define a dictionary with columns and their respective predefined values for filling nulls\n",
    "fill_values = {\n",
    "    'VAX_ROUTE': 'UN'\n",
    "}\n",
    "\n",
    "# Fill null values with predefined values for respective columns\n",
    "for column, value in fill_values.items():\n",
    "    df1[column].fillna(value, inplace=True)\n",
    "\n",
    "# Calculate the percentage of null values in each column\n",
    "null_percentages = (df1.isnull().sum() / len(df1)) * 100\n",
    "print(null_percentages)\n",
    "\n",
    "# List to store columns with more than 50% null values\n",
    "columns_to_drop = ['VAX_LOT', 'VAX_SITE']\n",
    "\n",
    "# Drop columns with more than 50% null values\n",
    "if columns_to_drop:\n",
    "    df1.drop(columns=columns_to_drop, inplace=True)\n",
    "    print(f\"Dropped columns: {columns_to_drop}\")\n",
    "else:\n",
    "    print(\"No columns have more than 50% null values.\")\n",
    "\n",
    "\n",
    "# Removing rows with NaN values\n",
    "cleaned_vers_vax = df1.dropna()\n",
    "\n",
    "num_rows, num_columns = cleaned_vers_vax.shape\n",
    "\n",
    "print(f'Total number of rows: {num_rows}')\n",
    "print(f'Total number of columns: {num_columns}')"
   ]
  },
  {
   "cell_type": "code",
   "execution_count": 37,
   "metadata": {},
   "outputs": [
    {
     "name": "stdout",
     "output_type": "stream",
     "text": [
      "VAERS_ID            0.000000\n",
      "VAX_TYPE            0.000000\n",
      "VAX_MANU            0.000000\n",
      "VAX_LOT            30.665067\n",
      "VAX_DOSE_SERIES     0.377329\n",
      "VAX_ROUTE          22.577260\n",
      "VAX_SITE           25.904843\n",
      "VAX_NAME            0.000000\n",
      "dtype: float64\n"
     ]
    }
   ],
   "source": [
    "# # Define a dictionary with columns and their respective predefined values for filling nulls\n",
    "fill_values = {\n",
    "    'VAX_ROUTE': 'UN'\n",
    "}\n",
    "\n",
    "# Fill null values with predefined values for respective columns\n",
    "for column, value in fill_values.items():\n",
    "    df2[column].fillna(value, inplace=True)\n",
    "\n",
    "# Calculate the percentage of null values in each column\n",
    "null_percentages = (df2.isnull().sum() / len(df2)) * 100\n",
    "print(null_percentages)\n",
    "\n",
    "# List to store columns with more than 50% null values\n",
    "columns_to_drop = ['VAX_LOT', 'VAX_SITE']\n",
    "\n",
    "# Drop columns with more than 50% null values\n",
    "if columns_to_drop:\n",
    "    df2.drop(columns=columns_to_drop, inplace=True)\n",
    "    print(f\"Dropped columns: {columns_to_drop}\")\n",
    "else:\n",
    "    print(\"No columns have more than 50% null values.\")\n",
    "\n",
    "\n",
    "# Removing rows with NaN values\n",
    "cleaned_vers_vax = df2.dropna()\n",
    "\n",
    "num_rows, num_columns = cleaned_vers_vax.shape\n",
    "\n",
    "print(f'Total number of rows: {num_rows}')\n",
    "print(f'Total number of columns: {num_columns}')"
   ]
  },
  {
   "cell_type": "code",
   "execution_count": 31,
   "metadata": {},
   "outputs": [
    {
     "name": "stdout",
     "output_type": "stream",
     "text": [
      "VAERS_ID            0.000000\n",
      "VAX_TYPE            0.000000\n",
      "VAX_MANU            0.000000\n",
      "VAX_LOT            26.138866\n",
      "VAX_DOSE_SERIES     0.408568\n",
      "VAX_ROUTE           0.000000\n",
      "VAX_SITE           36.645376\n",
      "VAX_NAME            0.000000\n",
      "dtype: float64\n",
      "Dropped columns: ['VAX_LOT', 'VAX_SITE']\n",
      "Total number of rows: 209875\n",
      "Total number of columns: 6\n"
     ]
    }
   ],
   "source": [
    "# Define a dictionary with columns and their respective predefined values for filling nulls\n",
    "fill_values = {\n",
    "    'VAX_ROUTE': 'UN'\n",
    "}\n",
    "\n",
    "# Fill null values with predefined values for respective columns\n",
    "for column, value in fill_values.items():\n",
    "    df3[column].fillna(value, inplace=True)\n",
    "\n",
    "# Calculate the percentage of null values in each column\n",
    "null_percentages = (df3.isnull().sum() / len(df3)) * 100\n",
    "print(null_percentages)\n",
    "\n",
    "# List to store columns with more than 50% null values\n",
    "columns_to_drop = ['VAX_LOT', 'VAX_SITE']\n",
    "\n",
    "# Drop columns with more than 50% null values\n",
    "if columns_to_drop:\n",
    "    df3.drop(columns=columns_to_drop, inplace=True)\n",
    "    print(f\"Dropped columns: {columns_to_drop}\")\n",
    "else:\n",
    "    print(\"No columns have more than 50% null values.\")\n",
    "\n",
    "\n",
    "# Removing rows with NaN values\n",
    "cleaned_vers_vax = df3.dropna()\n",
    "\n",
    "num_rows, num_columns = cleaned_vers_vax.shape\n",
    "\n",
    "print(f'Total number of rows: {num_rows}')\n",
    "print(f'Total number of columns: {num_columns}')"
   ]
  },
  {
   "cell_type": "code",
   "execution_count": 32,
   "metadata": {},
   "outputs": [],
   "source": [
    "output_file_name1 = \"2020PREPROCESSED_VAX.csv\"\n",
    "df1.to_csv(output_file_name1, index=False)\n",
    "\n",
    "output_file_name2 = \"2021PREPROCESSED_VAX.csv\"\n",
    "df2.to_csv(output_file_name2, index=False)\n",
    "\n",
    "output_file_name3 = \"2022PREPROCESSED_VAX.csv\"\n",
    "df3.to_csv(output_file_name3, index=False)"
   ]
  },
  {
   "cell_type": "code",
   "execution_count": 34,
   "metadata": {},
   "outputs": [
    {
     "name": "stdout",
     "output_type": "stream",
     "text": [
      "(10381, 6)\n",
      "(710786, 6)\n",
      "(210736, 6)\n"
     ]
    }
   ],
   "source": [
    "print(df1.shape)\n",
    "print(df2.shape)\n",
    "print(df3.shape)"
   ]
  }
 ],
 "metadata": {
  "kernelspec": {
   "display_name": "Python 3",
   "language": "python",
   "name": "python3"
  },
  "language_info": {
   "codemirror_mode": {
    "name": "ipython",
    "version": 3
   },
   "file_extension": ".py",
   "mimetype": "text/x-python",
   "name": "python",
   "nbconvert_exporter": "python",
   "pygments_lexer": "ipython3",
   "version": "3.10.11"
  }
 },
 "nbformat": 4,
 "nbformat_minor": 2
}
