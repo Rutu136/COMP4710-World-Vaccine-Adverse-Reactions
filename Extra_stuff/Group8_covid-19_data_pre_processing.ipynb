{
 "cells": [
  {
   "cell_type": "code",
   "execution_count": null,
   "metadata": {},
   "outputs": [],
   "source": [
    "import pandas as pd"
   ]
  },
  {
   "cell_type": "code",
   "execution_count": null,
   "metadata": {},
   "outputs": [],
   "source": [
    "covid_vaccination_data = pd.read_csv(\"C:/Users/rutub/OneDrive/Desktop/Fall 2023/Comp4710/COMP4710-World-Vaccine-Adverse-Reactions/owid-covid-data.csv\", encoding='latin-1')\n",
    "usa_vaccination_data = covid_vaccination_data[covid_vaccination_data['iso_code'] == 'USA']\n",
    "usa_vaccination_data = usa_vaccination_data[usa_vaccination_data['date'] >= '2020-01-01']\n",
    "usa_vaccination_data = usa_vaccination_data[usa_vaccination_data['date'] <= '2022-12-31']\n",
    "\n",
    "output_file_name = \"covid-19_vaccination_US_Data_2020-2022.csv\"\n",
    "usa_vaccination_data.to_csv(output_file_name, index=False)\n",
    "\n",
    "print(usa_vaccination_data.shape)"
   ]
  }
 ],
 "metadata": {
  "language_info": {
   "name": "python"
  }
 },
 "nbformat": 4,
 "nbformat_minor": 2
}
